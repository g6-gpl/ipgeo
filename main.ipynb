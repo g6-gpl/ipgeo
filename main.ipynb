{
 "cells": [
  {
   "cell_type": "code",
   "execution_count": 1,
   "id": "608459a6",
   "metadata": {},
   "outputs": [
    {
     "name": "stderr",
     "output_type": "stream",
     "text": [
      "c:\\Users\\РКИ\\Documents\\Visual Studio 2022\\ml-dfir\\.venv\\Lib\\site-packages\\tqdm\\auto.py:21: TqdmWarning: IProgress not found. Please update jupyter and ipywidgets. See https://ipywidgets.readthedocs.io/en/stable/user_install.html\n",
      "  from .autonotebook import tqdm as notebook_tqdm\n"
     ]
    }
   ],
   "source": [
    "from transformers import AutoTokenizer, AutoModelForSequenceClassification, pipeline\n",
    "import torch\n",
    "import csv"
   ]
  },
  {
   "cell_type": "code",
   "execution_count": 2,
   "id": "420f7af8",
   "metadata": {},
   "outputs": [
    {
     "name": "stderr",
     "output_type": "stream",
     "text": [
      "c:\\Users\\РКИ\\Documents\\Visual Studio 2022\\ml-dfir\\.venv\\Lib\\site-packages\\transformers\\convert_slow_tokenizer.py:564: UserWarning: The sentencepiece tokenizer that you are converting to a fast tokenizer uses the byte fallback option which is not implemented in the fast tokenizers. In practice this means that the fast version of the tokenizer can produce unknown tokens whereas the sentencepiece version would have converted these unknown tokens into a sequence of byte tokens matching the original piece of text.\n",
      "  warnings.warn(\n",
      "Some weights of DebertaV2ForSequenceClassification were not initialized from the model checkpoint at ./models/deberta-v3-base-full and are newly initialized: ['classifier.bias', 'classifier.weight', 'pooler.dense.bias', 'pooler.dense.weight']\n",
      "You should probably TRAIN this model on a down-stream task to be able to use it for predictions and inference.\n"
     ]
    },
    {
     "name": "stdout",
     "output_type": "stream",
     "text": [
      "✅ Модель и токенизатор успешно загружены!\n"
     ]
    }
   ],
   "source": [
    "model_name = \"./models/deberta-v3-base-full\"\n",
    "try:\n",
    "    tokenizer = AutoTokenizer.from_pretrained(model_name)\n",
    "    model = AutoModelForSequenceClassification.from_pretrained(model_name)\n",
    "    print(\"✅ Модель и токенизатор успешно загружены!\")\n",
    "except Exception as e:\n",
    "    print(f\"❌ Ошибка загрузки модели: {e}\")\n",
    "    exit(1)"
   ]
  },
  {
   "cell_type": "code",
   "execution_count": null,
   "id": "f05d74b5",
   "metadata": {},
   "outputs": [
    {
     "name": "stderr",
     "output_type": "stream",
     "text": [
      "Device set to use cpu\n"
     ]
    }
   ],
   "source": [
    "classifier = pipeline(\n",
    "    \"text-classification\",\n",
    "    model=model,\n",
    "    tokenizer=tokenizer,\n",
    "    framework=\"pt\",\n",
    "    device=0 if torch.cuda.is_available() else -1,\n",
    ")\n",
    "\n",
    "def analyze_network_traffic(traffic_data):\n",
    "    text_features = []\n",
    "    for packet in traffic_data:\n",
    "        feature_str = (\n",
    "            \" \".join(packet)\n",
    "        )\n",
    "        text_features.append(feature_str)\n",
    "\n",
    "    try:\n",
    "        results = classifier(text_features)\n",
    "    except:\n",
    "\n",
    "        results = []\n",
    "        for text in text_features:\n",
    "            try:\n",
    "                result = classifier(text)\n",
    "                results.extend(result)\n",
    "                print(result)\n",
    "            except Exception as e:\n",
    "                print(f\"❌ Ошибка при обработке текста: {text[:50]}... - {e}\")\n",
    "                results.append({\"label\": \"ERROR\", \"score\": 0.0})\n",
    "\n",
    "    return results\n"
   ]
  },
  {
   "cell_type": "code",
   "execution_count": 19,
   "id": "f65788b9",
   "metadata": {},
   "outputs": [],
   "source": [
    "with open(r'files\\01.csv', 'r', newline='') as csvfile:\n",
    "    reader = csv.reader(csvfile)\n",
    "    header = next(reader)\n",
    "    data = []\n",
    "    for row in reader:\n",
    "        data.append(row)\n",
    "\n"
   ]
  },
  {
   "cell_type": "code",
   "execution_count": null,
   "id": "41990a43",
   "metadata": {},
   "outputs": [],
   "source": [
    "\n",
    "try:\n",
    "    analysis = analyze_network_traffic(data)\n",
    "    print(\"📊 Результаты анализа трафика:\")\n",
    "    for i, result in enumerate(analysis):\n",
    "        print(f\"Пакет {i+1}: {result}\")\n",
    "except Exception as e:\n",
    "    print(f\"❌ Ошибка при анализе трафика: {e}\")\n"
   ]
  }
 ],
 "metadata": {
  "kernelspec": {
   "display_name": ".venv",
   "language": "python",
   "name": "python3"
  },
  "language_info": {
   "codemirror_mode": {
    "name": "ipython",
    "version": 3
   },
   "file_extension": ".py",
   "mimetype": "text/x-python",
   "name": "python",
   "nbconvert_exporter": "python",
   "pygments_lexer": "ipython3",
   "version": "3.13.7"
  }
 },
 "nbformat": 4,
 "nbformat_minor": 5
}
